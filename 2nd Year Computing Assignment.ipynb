{
 "cells": [
  {
   "cell_type": "markdown",
   "metadata": {
    "collapsed": false
   },
   "source": [
    "## Student Number: 22156658\n",
    "\n"
   ]
  },
  {
   "cell_type": "markdown",
   "metadata": {
    "collapsed": false
   },
   "source": [
    "## PHAS0029 Final Assignment, The Infinite \"Unsquare\" Potential"
   ]
  },
  {
   "cell_type": "markdown",
   "metadata": {
    "collapsed": false
   },
   "source": [
    "In this notebook, known boundary condtions will be utilised in solving differential equations. The main aim of the tasks performed below is to numerically solve the quantum\\-mechanical problem of a particle \\(electron\\) in potential well. The solutions will be energy values \\(eigenenergies\\) for the corresponding state. The equation to be solved is the one\\-dimensional time\\-independent Schrödinger equation:\n",
    "\n",
    "$$\n",
    "-\\frac{\\hbar^2}{2m} \\frac{d^2\\psi}{dx^2} + V(x)\\psi(x) = E\\psi(x)   \\ \\ \\ [4]\n",
    "$$\n",
    "\n",
    "This equation will be solved in different cases of potential wells.\\(As defined by $ V(x) $\\) \n",
    "\n",
    "The particle in the potential well is an electron, a fundamental particle with a small mass and charge of \\-e \\(elementary charge\\).\n",
    "\n",
    "<u>**Objectives:**</u>\n",
    "\n",
    "The first objective will be to solve the equation in the case of the infinite square well, where $V(x)$ takes the form: \n",
    "\n",
    "$$\n",
    "V_x = \\begin{cases} 0 & \\text{if } -a \\leq x \\leq +a, \\\\ \n",
    "\\infty  & \\text{if } |x| > a, \\end{cases}\n",
    "$$\n",
    "\n",
    "In this case, in the range \\-a to \\+a, the potential is 0, and elsewhere it is infinite. It can be shown that the probability of finding a particle with infinite potential is zero. Therefore solving this case requires the boundary that the wavefunction, $\\psi =0$ at $x=-a$ and $x = +a$. In this case there are easily determined analytical solutions that can compared both numerically and graphically with the found solutions.\n",
    "\n",
    "The next objectives will be to test the numerical approach at higher orders, and then to extend it into 3 dimensions. Finally, two different cases finite potentials will be considered and tested with the boundary conditions methods already used in the first part.\n",
    "\n",
    "<u>**Methods:**</u>\n",
    "\n",
    "The presence of boundary conditions allows for the use of the secant method, which be outline in detail in the first part. The Numpy Matplot Python modules will be used in calculating solutions and comparing results.\n",
    "\n",
    "<u>**Functionality:**</u>\n",
    "\n",
    "Please be aware that this notebook operates in a chronological order, such that if one part of code is changed, it is necessary to restart the kernel and run all cells to. This is due to the usage of reusing common variable names for different tasks.\n",
    "\n"
   ]
  },
  {
   "cell_type": "markdown",
   "metadata": {
    "collapsed": false
   },
   "source": [
    "Note:   \n",
    "Referencing will be done using square brackets \\(e.g. \\[1\\], \\[2\\]\\). An appendix of references can be found at the end of the notebook.\n"
   ]
  },
  {
   "cell_type": "markdown",
   "metadata": {
    "collapsed": false
   },
   "source": [
    "## 3: A Quantum Dot in a vacuum\n",
    "\n",
    "<span style='font-size:medium'>The first step of this task is to define physical constants which will be used in solving the Schrodinger equation, they will be saved to variables and will include a high level of precision. When performing calculations, SI unit will be used throughtout.</span>\n",
    "\n",
    "<span style='font-size:medium'>However, when energy is quoted in comments/text cell</span>  \n",
    "<span style='font-size:medium'>it will be done so in the units of electronvolts \\(eV\\). For this reason I will also make two simple conversion functions for ease during the notebook.</span>\n"
   ]
  },
  {
   "cell_type": "markdown",
   "metadata": {
    "collapsed": false
   },
   "source": [
   ]
  },
  {
   "cell_type": "code",
   "execution_count": 3,
   "metadata": {
    "collapsed": false
   },
   "outputs": [
    {
     "name": "stdout",
     "output_type": "stream",
     "text": [
      "PHYSICAL CONSTANTS DOCKET\n",
      "----------------------------------------------------\n",
      " Electron mass = 1.602176634e-19 kg   [1] \n",
      " Reduced Planck constant = 1.054571817e-34 J/s  [1] \n",
      " Electron charge = 1.602176634e-19 C   [1]\n"
     ]
    }
   ],
   "source": [
    "#Defining physical constants\n",
    "\n",
    "#Electron mass/ m (kg):\n",
    "m = 9.109383702e-31\n",
    "#Reduced Planck constant, hbar (J/s):\n",
    "hbar = 1.054571817e-34\n",
    "#Electron charge, e (C):\n",
    "e = 1.602176634e-19\n",
    "\n",
    "#Display constant\n",
    "print(\"PHYSICAL CONSTANTS DOCKET\")  \n",
    "print(\"----------------------------------------------------\")\n",
    "print(f\" Electron mass = {e} kg   [1] \\n Reduced Planck constant = {hbar} J/s  [1] \\n Electron charge = {e} C   [1]\")"
   ]
  },
  {
   "cell_type": "code",
   "execution_count": 4,
   "metadata": {
    "collapsed": false
   },
   "outputs": [
   ],
   "source": [
    "#Creating conversion functions:\n",
    "\n",
    "def ev(joules):\n",
    "    \"\"\"\n",
    "    Converts units of Joules to electron-volts.\n",
    "    \n",
    "\n",
    "    Input:\n",
    "    - joules = value of joules to be converted\n",
    "   \n",
    "    Returns:\n",
    "    - ev = value of joules converted to electron-volts\n",
    "    \"\"\"\n",
    "    #Conversion\n",
    "    ev = joules/e\n",
    "    \n",
    "    #Return result\n",
    "    return ev\n",
    "\n",
    "def joules(ev):\n",
    "    \"\"\"\n",
    "    Converts units of electron-volts to Joules.\n",
    "    \n",
    "    Input:\n",
    "    - ev = value of joules converted to electron-volts\n",
    "   \n",
    "    Returns:\n",
    "    - joules = value of joules to be converted   \n",
    "    \"\"\"\n",
    "    #Conversion\n",
    "    joules = ev * e \n",
    "    \n",
    "    #Return result\n",
    "    return joules"
   ]
  },
  {
   "cell_type": "markdown",
   "metadata": {
    "collapsed": false
   },
   "source": [
    "### Task 3.1: Finding the ground state energy\n",
    "\n",
    "In order to solve the infinite square well, it is neccessary to define the size of the well (quantum dot) and create a function reperesenting the potential. \n",
    " The wavefunction $ \\psi(x) $ only has a non-zero probability density in the region of zero potential, therfore the potential must be 0 for all points of $x$ condsidered."
   ]
  },
  {
   "cell_type": "code",
   "execution_count": 5,
   "metadata": {
    "collapsed": false
   },
   "outputs": [
   ],
   "source": [
    "#Quantum dot parameters:\n",
    "\n",
    "#Side length, d (m):\n",
    "d = 5e-9\n",
    "a = d/2\n",
    "#Number of points, N:\n",
    "N = 2000"
   ]
  },
  {
   "cell_type": "code",
   "execution_count": 6,
   "metadata": {
    "collapsed": false
   },
   "outputs": [
   ],
   "source": [
    "#Creating a function which returns potential of zero for all x points.\n",
    "\n",
    "def V(x):\n",
    "    \"\"\"\n",
    "    Returns value of potential for any given x points. The potenitial is zero for all points of x.\n",
    "    \n",
    "    Input:\n",
    "    - x = x data point\n",
    "    \n",
    "    Return:\n",
    "    0.0 \n",
    "    \"\"\"\n",
    "    #Return 0.0 for all inputs\n",
    "    return 0.0"
   ]
  },
  {
   "cell_type": "markdown",
   "metadata": {
    "collapsed": false
   },
   "source": [
    "The Schrödinger equation can be seperated into two first order equations as such:\n",
    "\n",
    "\n",
    "$$\n",
    "\\frac{d \\psi}{dx } = \\phi, \\ \\ \\ [4] \\\\\n",
    "\\frac{d \\phi}{dx } = \\frac{2m}{\\hbar^2} \\left[V(x) - E \\right] \\psi(x) \\ \\ \\ [4]\n",
    "$$\n",
    "\n",
    "In order to solve these two equations simultaneously, the known boundary conditions can be used in conjucture with the Runge-Kutta method.\n",
    "\n"
   ]
  },
  {
   "cell_type": "code",
   "execution_count": 7,
   "metadata": {
    "collapsed": false
   },
   "outputs": [
   ],
   "source": [
    "## Import modules needed for this task\n",
    "\n",
    "import numpy as np\n",
    "import matplotlib.pyplot as plt"
   ]
  },
  {
   "cell_type": "code",
   "execution_count": 8,
   "metadata": {
    "collapsed": false
   },
   "outputs": [
   ],
   "source": [
    "## Create function that calculates the RHS of ODEs to be solved\n",
    "\n",
    "def schrodinger(r,x,E):\n",
    "    \"\"\"\n",
    "    Calculates RHS of system of ODEs for Schrodinger equation.\n",
    "    \n",
    "    Inputs:\n",
    "    - r = array containing value of phi then psi\n",
    "    - x = x datapoint\n",
    "    - E = value of energy\n",
    "    \n",
    "    Returns:\n",
    "    - array of values for the RHS of seperated Schrödinger equation \n",
    "    \"\"\"\n",
    "    #Extract phi/psi values from r input array\n",
    "    psi = r[0]\n",
    "    phi = r[1]\n",
    "    \n",
    "    \n",
    "    #Calculate RHS differential values from equations   \n",
    "    fpsi = phi \n",
    "    fphi = ( ( (2*m)/(hbar**2) ) ) * (V(x) - E) * psi\n",
    "    \n",
    "    #Return array of RHS values\n",
    "    return np.array([fpsi,fphi])"
   ]
  },
  {
   "cell_type": "markdown",
   "metadata": {
    "collapsed": false
   },
   "source": [
    "From the boundary condition, it is known that initially (moving from left to right or right to left)  $\\psi$ = 0,  the  **initial guess for** $\\boldsymbol{\\phi}$  does not matter in this case as the wavefunction will need to be **normalised** once a solution has been found."
   ]
  },
  {
   "cell_type": "code",
   "execution_count": 9,
   "metadata": {
    "collapsed": false
   },
   "outputs": [
   ],
   "source": [
    "## Reusing RungeKutta method from week 7 [2]\n",
    "\n",
    "\n",
    "def RungeKutta2d(xpoints,E):\n",
    "    '''\n",
    "    \n",
    "    Fourth-order Runge-Kutta that solves two simultaneous equations.\n",
    "    \n",
    "    Inputs: \n",
    "     - xpoints: array of x values.\n",
    "    Outputs: \n",
    "    - [psipoint]: solutions for psi(x)\n",
    "    '''\n",
    "    \n",
    "    #Define intial condition within function\n",
    "    r = np.array([0,0.1])\n",
    "    \n",
    "    \n",
    "    psipoints = [] # initialise empty arrays\n",
    "    phipoints = []\n",
    "    for x in xpoints: # loops over all tpoints up to (tend-h)\n",
    "        psipoints.append(r[0])\n",
    "        phipoints.append(r[1])\n",
    "        # The following is the same as the 1d version, with x->r\n",
    "        k1 = h*schrodinger(r,x,E) \n",
    "        k2 = h*schrodinger(r+0.5*k1, x+0.5*h,E)\n",
    "        k3 = h*schrodinger(r+0.5*k2, x+0.5*h,E)\n",
    "        k4 = h*schrodinger(r+k3, x+h,E)\n",
    "        r = r + (k1 + 2*k2 + 2*k3 + k4)/6\n",
    "    # these next two lines calculate for the point at x = xend!\n",
    "    psipoints.append(r[0])\n",
    "    phipoints.append(r[1])\n",
    "    return np.array(psipoints) "
   ]
  },
  {
   "cell_type": "markdown",
   "metadata": {
    "collapsed": false
   },
   "source": [
    "The secant method will now be used to numerically converge on a value of the roots of the function.\n",
    "\n",
    "The secant method is the extended version of the _Newton-Raphson_ method, whereby the x-intercept of a tangential gradient to the function at a point is used to get closer to the  root of the function, this processs is repeated until the found values converge on the actual value of the root:\n",
    "\n",
    "$$ x' = x - \\Delta x  = x - \\frac{f(x)}{f'(x)} \\ \\ \\ [2] $$\n",
    "\n",
    "The secant method extends on this by taking two points $x_1 / x_2 $ and calculating an approximate gradient at $x_2$:\n",
    "\n",
    "$$ f'(x) \\approx \\frac{f(x_2)-f(x_1)}{x_2-x_1} \\ \\ \\ [2] $$   \n",
    "\n",
    "$$ \\therefore \\ \\ x' = x_2 - f(x_2)\\frac{x_2 - x_1}{f(x_2)-f(x_1)} \\ \\ \\ [2] $$\n",
    "\n",
    "Therfore in order to use the secant meed, two guesses of the root (eigenenergy) must be specifiied before the iteration can begin. The known anaylitcal solution for the infinite square well can be used to provide a guess to test our method for the lowest order case: ($ n = 1,2,3...$)\n",
    "\n",
    "$$\n",
    "E_n = \\frac{\\pi^2 \\hbar^2 n^2}{2m (2a)^2} = \\frac{\\pi^2 \\hbar^2 (1)^2}{2m (2a)^2} \\approx 0.015 eV   \\ \\ \\ [4]\n",
    "$$\n",
    "\n"
   ]
  },
  {
   "cell_type": "code",
   "execution_count": 10,
   "metadata": {
    "collapsed": false,
    "scrolled": true
   },
   "outputs": [
    {
     "name": "stdout",
     "output_type": "stream",
     "text": [
      "Calculating eigenergy based on initial guesses: E1 = 0 eV, E2 = 0.02 eV ....\n",
      "...difference between E1,E2 is 3.629189174426417e-22 \tCondition met? False\n"
     ]
    },
    {
     "name": "stdout",
     "output_type": "stream",
     "text": [
      "...difference between E1,E2 is 5.714104862893877e-22 \tCondition met? False\n",
      "...difference between E1,E2 is 1.5969697731209446e-22 \tCondition met? False\n"
     ]
    },
    {
     "name": "stdout",
     "output_type": "stream",
     "text": [
      "...difference between E1,E2 is 1.9009497756524563e-23 \tCondition met? False\n",
      "...difference between E1,E2 is 8.496243287639427e-25 \tCondition met? True\n"
     ]
    },
    {
     "name": "stdout",
     "output_type": "stream",
     "text": [
      "Calculation complete:\n",
      "E =  0.015041173790422264 eV\n"
     ]
    }
   ],
   "source": [
    "## Find energy based on inital guesses\n",
    "\n",
    "#Create x start and end points\n",
    "xstart = -a\n",
    "xend = +a\n",
    "#Step size:\n",
    "h = (xend-xstart)/N\n",
    "#array of x points to iterate over:\n",
    "xpoints = np.arange(xstart,xend,h)\n",
    "\n",
    "#Initial guesses of root/eigenenergy\n",
    "E1 = 0\n",
    "E2 = joules(0.02) #0.02eV\n",
    "\n",
    "#Define tolerance [1]\n",
    "tolerance = e/100000\n",
    "\n",
    "\n",
    "\n",
    "#Create secant method inside of function to create more compact code when testing.\n",
    "def eigenenergy(E1,E2,tolerance):\n",
    "    \"\"\"\n",
    "    Use secant method to converge on nth eigenenergy specified by intial guesses, calls RungeKutta function to calculate next value.\n",
    "    \n",
    "    Inptuts:\n",
    "    - E1/E2 = Initial guesses of energy (J)\n",
    "    - tolerance = tolerance used in secant method\n",
    "    \n",
    "    Returns:\n",
    "    Prints full value of eigenergy found. \n",
    "    \"\"\"\n",
    "    #Print initial guesses\n",
    "    print(f\"Calculating eigenergy based on initial guesses: E1 = {E1} eV, E2 = {ev(E2)} eV ....\")\n",
    "   \n",
    "    #Use secant to converge on correct energy that gives us psi = 0 at +d/2\n",
    "    while abs(E2-E1) > tolerance:  #loops until tolerance reached\n",
    "        sol1 = RungeKutta2d(xpoints,E1)[-1]\n",
    "        sol2 = RungeKutta2d(xpoints,E2)[-1]\n",
    "\n",
    "        Eout = E2 - sol2*(E2-E1)/(sol2-sol1)\n",
    "        \n",
    "        #Update values for next iteraion\n",
    "        E1 = E2\n",
    "        E2 = Eout\n",
    "        \n",
    "        #Print whether tolerance has/hasnt been reached\n",
    "        print(\"...difference between E1,E2 is\",abs(E2-E1), \"\\tCondition met?\", abs(E2-E1) < tolerance)\n",
    "        sol1 = RungeKutta2d(xpoints,E1)[-1]\n",
    "        sol2 = RungeKutta2d(xpoints,E2)[-1]\n",
    "\n",
    "    #Print final result with eV conversion    \n",
    "    print(\"Calculation complete:\")\n",
    "    print(\"E = \", ev(Eout), \"eV\")\n",
    "       \n",
    "\n",
    "        \n",
    "#Call secant function to find ground state energy:        \n",
    "eigenenergy(E1,E2,e/100000)\n"
   ]
  },
  {
   "cell_type": "markdown",
   "metadata": {
    "collapsed": false
   },
   "source": [
    "This appears to work as expected as the calculation converges to a value which satisfies our tolerance condition. The final result has been converted to eV. Next I will find the error on the value when compared to the theoretical value from above.  \n",
    "\n"
   ]
  },
  {
   "cell_type": "code",
   "execution_count": 11,
   "metadata": {
    "collapsed": false
   },
   "outputs": [
    {
     "name": "stdout",
     "output_type": "stream",
     "text": [
      "Analytic value of 1st order energy = 0.015041206485411837 eV\n"
     ]
    }
   ],
   "source": [
    "## Create function that calculates the nth state's eigenenergy theoretical value:\n",
    "\n",
    "def analytic(n):\n",
    "    \"\"\"\n",
    "    Calculates analytical value of the eigenenergy for the infinite square well Schrodinger equation.\n",
    "    \n",
    "    Inputs:\n",
    "    - n = order \n",
    "    \n",
    "    Returns:\n",
    "    - En = calculated eigenenergy\n",
    "    \n",
    "    \n",
    "    \"\"\"   \n",
    "    #Compute equation of eigenenegy\n",
    "    En = ( (np.pi**2)*(hbar**2)*((n)**2)  )/( 2*m*(d**2) )\n",
    "    \n",
    "    #Return result\n",
    "    return En\n",
    "    \n",
    "#Test function:\n",
    "print(f\"Analytic value of 1st order energy = {ev(analytic(1))} eV\")\n"
   ]
  },
  {
   "cell_type": "code",
   "execution_count": 12,
   "metadata": {
    "collapsed": false
   },
   "outputs": [
    {
     "name": "stdout",
     "output_type": "stream",
     "text": [
      "Percentage difference between values is: 0.00%\n"
     ]
    }
   ],
   "source": [
    "## Find error between results\n",
    "\n",
    "def errorbetween(expected,observed):\n",
    "    \"\"\"\n",
    "    Caclulates the percentage error between the expected and observed values to 2 decimal places.\n",
    "    \n",
    "    Inputs:\n",
    "    - expected/observed = expected and observed values\n",
    "    \n",
    "    Returns:\n",
    "    Prints percentage difference.\n",
    "    \"\"\"\n",
    "    #Calculation\n",
    "    percentdiff = abs((observed-expected)/expected)*100\n",
    "    \n",
    "    #Print results\n",
    "    print(f\"Percentage difference between values is: {percentdiff:.2f}%\")\n",
    "\n",
    "#Save secant/analytic soltions to variables    \n",
    "secant_solution = 0.015041173790422264\n",
    "analytical_solution = ev(analytic(1))\n",
    "\n",
    "\n",
    "#Calculate and print error\n",
    "errorbetween(analytical_solution,secant_solution)\n",
    "\n"
   ]
  },
  {
   "cell_type": "markdown",
   "metadata": {
    "collapsed": false
   },
   "source": [
    "<span style='font-size:medium'><u>**Conclusion:**</u></span>\n",
    "\n",
    "<span style='font-size:medium'>There is a 0% error between the secant method and the theoretical value, this result shows that the secant method has been succesful in producing a valid energy value. </span>  \n",
    "\n"
   ]
  },
  {
   "cell_type": "markdown",
   "metadata": {
    "collapsed": false
   },
   "source": [
    "<span style='font-size:x-large'>Task  3.2: Ground state wavefunctions</span>\n"
   ]
  },
  {
   "cell_type": "markdown",
   "metadata": {
    "collapsed": false
   },
   "source": [
    "Now that the ground state energy has been determined, the wavefunction can be constructed. However, as previously mentioned the initial guess for $\\phi$ being arbitrary meant that the wavefunction calculated thus far is not normalised.\n",
    "\n",
    "The normalisation condtion for the wavefunction, $\\psi(x)$ is:\n",
    "\n",
    "$$\n",
    "\\int_{-\\infty}^{\\infty} | \\psi(x) |^2 {\\rm d} x = 1 \\ \\ \\ [4]\n",
    "$$\n",
    "\n",
    "The normalisation can be done using the trapezoidal rule to calculate the value of the integral on the LHS of the above equation, and then dividing the orignial wavefunction by the square root of this value. The trapezoidal rule:\n",
    "\n",
    "$$\n",
    "I(a,b) = h \\left[ \\frac{1}{2}f(a) + \\frac{1}{2}f(b) +  \\sum_{k=1}^{n-1}f(x + kh) \\right] \\ \\ \\ [4]\n",
    "$$ \n",
    "Where $I(a,b)$ is the value of the LHS of the normalisaition condition equation.\n",
    "\n",
    "The normalised wavefunction can be compared to the known normalised wavefunctions of the system given by:\n",
    "$$\n",
    "\\psi_n(x)  = \\frac{1}{\\sqrt{a}} \\cos\\left(\\frac{ n \\pi x}{2a}\\right) \\qquad \n",
    "    n \\ \\mathrm{odd}\n",
    "    $$\n",
    "    $$\n",
    "    \\psi_n(x)  = \\frac{1}{\\sqrt{a}} \\sin\\left(\\frac{ n \\pi x}{2a}\\right) \\qquad\n",
    "    n \\ \\mathrm{even}.\n",
    "$$\n",
    "\n",
    "Since the ground state is where n=1, it can be expected that the first equation (n is odd) will match the resulting normalised wavefunction."
   ]
  },
  {
   "cell_type": "code",
   "execution_count": 13,
   "metadata": {
    "collapsed": false
   },
   "outputs": [
    {
     "data": {
      "image/png": "[encoded data removed]",
      "text/plain": [
       "<Figure size 1296x576 with 2 Axes>"
      ]
     },
     "execution_count": 13,
     "metadata": {
      "image/png": {
       "height": 494,
       "width": 1071
      },
      "needs_background": "light"
     },
     "output_type": "execute_result"
    }
   ],
   "source": [
    "## Calculate and plot analytical/numerical wavefunctions for ground state\n",
    "\n",
    "#Create varaible with calculated ground state energy\n",
    "E_ground =  joules(0.015041173790422264)\n",
    "\n",
    "#Create array of xpoints 1 longer than xpoints\n",
    "x = np.arange(-a,a+h,h)\n",
    "\n",
    "#Create subplot axes\n",
    "fig, (ax1,ax2) = plt.subplots(1,2,figsize=(18,8))\n",
    "\n",
    "#Calculation of normalised wavefunction\n",
    "psisquared = ( RungeKutta2d(xpoints,E_ground) )**2\n",
    "psiinteg= h*(0.5*psisquared[0] + 0.5*psisquared[-1] + np.sum(psisquared[1:-2]))\n",
    "normpsi = (RungeKutta2d(xpoints,E_ground))/(np.sqrt(psiinteg))\n",
    "\n",
    "#Plot normalised wavefunction\n",
    "ax1.plot(x,normpsi,color='r')\n",
    "ax1.axvline(x=-a,c='#5f5f5f',ls='-',lw=2.5)\n",
    "ax1.axvline(x=a,c='#5f5f5f',ls='-',lw=2.5)\n",
    "ax1.set_xlabel(\"Displacement (x/nm)\")\n",
    "ax1.set_ylabel(\"$\\psi$\")\n",
    "ax1.grid(which='both', linestyle='--', linewidth=0.3)\n",
    "ax1.minorticks_on()\n",
    "ax1.grid(which='minor', linestyle=':', linewidth=0.3)\n",
    "ax1.set_title(\"Numerically determined normalised ground state wavefunction\")\n",
    "\n",
    "\n",
    "#Create wavefunction for case where n = odd  \n",
    "def normpsi_1(x):\n",
    "    psi_1 = (1/ np.sqrt(a)) * np.cos((1*np.pi*x)/(d))\n",
    "    return psi_1\n",
    "\n",
    "#Plot wavefunction n = 1\n",
    "ax2.plot(x,normpsi_1(x))\n",
    "ax2.axvline(x=-a,c='#5f5f5f',ls='-',lw=2.5)\n",
    "ax2.axvline(x=a,c='#5f5f5f',ls='-',lw=2.5)\n",
    "ax2.set_xlabel(\"Displacement (x/nm)\")\n",
    "ax2.set_ylabel(\"$\\psi$\")\n",
    "ax2.grid(which='both', linestyle='--', linewidth=0.3)\n",
    "ax2.minorticks_on()\n",
    "ax2.grid(which='minor', linestyle=':', linewidth=0.3)\n",
    "ax2.set_title(\"Analytically determined ground state normalised wavefunction\");"
   ]
  },
  {
   "cell_type": "markdown",
   "metadata": {
    "collapsed": false
   },
   "source": [
    "<u>**Comments:**</u>\n",
    "\n",
    "It can be seen in the above plots that there is an excellent match between the numerical solution and analytical solutions already known. \n"
   ]
  },
  {
   "cell_type": "markdown",
   "metadata": {
    "collapsed": false
   },
   "source": [
    "## Task  3.3: Higher order energy states\n",
    "\n",
    "Now it is important to see if the method works for higher order energies. However, this introduces the issue of obtaining a guess for next order solution without referring to the analytical solution. \n",
    "\n",
    "The Schrödinger is an eigenvalue equation:\n",
    "\n",
    "$$ \\hat{H}\\psi = E\\psi $$\n",
    "\n",
    "Since this is an eigenvalue problem, there must be a specified set of real eigenvalues (our eigenstates) produced by the Hamiltonian. In our Schrödinger equation, the Hamiltonian does not account for any energy splitting due to spin/orbits/fields and therefore it can reasonably be assumed that the roots which the secant method converege on will correspond to a real nth solution of the eigenvalue equation. Under this assumption there are quantised energy levels, it is reasonably justified to treat these energies as minima on a surface.\n",
    "\n",
    "Given this knowledge, the method implemented will begin by finding the ground state energy, it can easily be compared to the analytical solution to ensure it's correct. However, in the abscence of an analytical solution, the guesses must be sufficiently low to ensure that no higher energy states are found.\n",
    "\n",
    "Once the ground the state is found, the method to find the next highest energy is to increase the energy guess by a pre-determined factor. Note that due to the nature of the secant method, speficially becuase the _Newton-Raphson_ method works down the curve, the initial guess can be kept as 0 and as long as the second guess is sufficiently close to the next eigenenergy, the method will converge on the highest possible (next) eigenenergy based on these guesses.\n",
    "\n",
    "In the situation where, no new energy value is converged on, the factor will be increased so that the guess increases until the discovery of the next eigenvalue (energies). The parameters used will be justified are testing the method in a text cell following the results.\n"
   ]
  },
  {
   "cell_type": "code",
   "execution_count": 0,
   "metadata": {
    "collapsed": false
   },
   "outputs": [
   ],
   "source": [
    "## Create method of finding first n energies for infinite square well\n",
    "\n",
    "\n",
    "#Guesses for initial ground state energy\n",
    "E1 = 0\n",
    "E2 = joules(0.02)\n",
    "\n",
    "\n",
    "\n",
    "\n",
    "#Initialise values for iteration\n",
    "n = 0\n",
    "nmax = 5\n",
    "tolerance = e/100000\n",
    "\n",
    "#Provide initial guesses\n",
    "Einc = joules(0.01)\n",
    "Eprev = 0\n",
    "\n",
    "#Set initial factor\n",
    "factor = 1.00 #0% increase\n",
    "#Create empty array to store found energies\n",
    "eigenstates = []\n",
    "\n",
    "\n",
    "while n != nmax: #use while loop until nmax solutions found \n",
    "    while abs(E2-E1) > tolerance:\n",
    "        sol1 = RungeKutta2d(xpoints,E1)[-1]\n",
    "        sol2 = RungeKutta2d(xpoints,E2)[-1]\n",
    "        E3 = E2 - sol2*(E2-E1)/(sol2-sol1)\n",
    "        #Update values for next iteraion\n",
    "        E1 = E2\n",
    "        E2 = E3\n",
    "    \n",
    "    #If energy found is not the ground state\n",
    "    if n != 0: \n",
    "        #Check if new found energy is the same \n",
    "        if abs(E2 - Eprev) < (Einc/2)*factor:\n",
    "            n += 0\n",
    "            #Increase factor\n",
    "            factor += 3 \n",
    "            #Set new guesses with factored increase\n",
    "            E1 = 0\n",
    "            E2 = E2 + Einc*factor\n",
    "        #If found energy is new\n",
    "        else: \n",
    "            n += 1\n",
    "            #Store found energy in eigenstates array \n",
    "            eigenstates.append(E2)\n",
    "            #Increase energy \n",
    "            E2 += Einc\n",
    "            Eprev = E3\n",
    "     #Specific energy for ground state\n",
    "    elif n == 0:\n",
    "        n += 1\n",
    "        eigenstates.append(E2)\n",
    "        E1 = 0\n",
    "        E2 += Einc\n",
    "        Eprev = E3\n",
    "\n",
    "#Initilaise state counter for displaying results         \n",
    "state = 0\n",
    "#While loop that prints numerical/analytical values of the eigenenergies\n",
    "while state < nmax:\n",
    "    print(f\"n = {state+1}\")\n",
    "    print(\" \")\n",
    "    #Print analytical / numerical values\n",
    "    print(f\"Analytical Eigenenergy for n = {state+1} = {ev(analytic(state+1))} eV\")\n",
    "    print(f\"Numerical Eigenenergy for n = {state+1} state = {ev(eigenstates[state])} eV\")\n",
    "    errorbetween(ev(analytic(state+1)),ev(eigenstates[state]))\n",
    "    print(\"-------------------------\")\n",
    "    state += 1\n",
    "    "
   ]
  },
  {
   "cell_type": "markdown",
   "metadata": {
    "collapsed": false
   },
   "source": [
    "<u>**Comments:**</u>\n",
    "\n",
    "The method has been very succesful, as can be seen above there is only a slight discrepancy between analytical/numerical values. Initially, a factor of 5 was used but this proved to be to large as some energies would end up being missed. Next I will plot these results and comment on them. \n",
    "\n",
    "Then it will be useful to test the method at higher values of n, and then also compare a higher order wavefunction with the known form as done before for the ground state.\n"
   ]
  },
  {
   "cell_type": "code",
   "execution_count": 0,
   "metadata": {
    "collapsed": false
   },
   "outputs": [
   ],
   "source": [
    "## Calculate and plot first n normlaised wavefunctions\n",
    "\n",
    "#Create array of x points one longer than xpoints\n",
    "x = np.arange(-a,a+h,h)\n",
    "\n",
    "#Create figure with title\n",
    "plt.figure(figsize=(15,10))\n",
    "plt.title(\"Initial 5 Eigenfunctions for the Infinite square well\")\n",
    "\n",
    "#Use for loop to calculate and plot each normalised wavefunction for n = 1,2,3,4,5\n",
    "for E in eigenstates:\n",
    "    #Calculate normalised wavefunctions\n",
    "    psisquared = ( RungeKutta2d(xpoints,E) )**2\n",
    "    psiinteg= h*(0.5*psisquared[0] + 0.5*psisquared[-1] + np.sum(psisquared[1:-2]))\n",
    "    normpsi = (RungeKutta2d(xpoints,E))/(np.sqrt(psiinteg))\n",
    "   \n",
    "    #Plot wavefunction with labels and legend\n",
    "    plt.plot(x,normpsi,label=(f\" n = {eigenstates.index(E) + 1}\"))\n",
    "    plt.axvline(x=-a,c='#5f5f5f',ls='-',lw=2.5)\n",
    "    plt.axvline(x=a,c='#5f5f5f',ls='-',lw=2.5)\n",
    "    plt.grid(which='both', linestyle='--', linewidth=0.3)\n",
    "    plt.minorticks_on()\n",
    "    plt.grid(which='minor', linestyle=':', linewidth=0.3)\n",
    "    \n",
    "    plt.ylabel(\"$\\psi$\")\n",
    "    plt.xlabel(\"Displacement (x/nm)\")\n",
    "    \n",
    "    \n",
    "#Add legend    \n",
    "plt.legend(loc = 3, fontsize = 10);"
   ]
  },
  {
   "cell_type": "markdown",
   "metadata": {
    "collapsed": false
   },
   "source": [
    "<u>**Comments:**</u>\n",
    "\n",
    "The wavefunctions show an expected increase in _nodes_ for each nth order. The ground state has no nodes present except for at the boundaries, each increasing order has one extra node. This explained be explained by the increase in energy of each successive order, we know from $ E = \\frac{hc}{\\lambda} $ , that as the energy increases, the wavelength is shortened. This decrease in wavelength explains why over the same distance, a higher energy wave will have more nodes than a lower one.\n"
   ]
  },
  {
   "cell_type": "code",
   "execution_count": 0,
   "metadata": {
    "collapsed": false
   },
   "outputs": [
   ],
   "source": [
    "## Plotting numerical/analytic wavefunctions for n = 2\n",
    "\n",
    "#Create varaible with calculated ground state energy\n",
    "E_n2 = eigenstates[1]\n",
    "\n",
    "#Create array of xpoints 1 longer than xpoints\n",
    "x = np.arange(-a,a+h,h)\n",
    "\n",
    "#Create subplot axes\n",
    "fig, (ax1,ax2) = plt.subplots(1,2,figsize=(18,8))\n",
    "\n",
    "#Calculation of normalised wavefunction\n",
    "psisquared = ( RungeKutta2d(xpoints,E_n2) )**2\n",
    "psiinteg= h*(0.5*psisquared[0] + 0.5*psisquared[-1] + np.sum(psisquared[1:-2]))\n",
    "normpsi = (RungeKutta2d(xpoints,E_n2))/(np.sqrt(psiinteg))\n",
    "\n",
    "#Plot normalised wavefunction\n",
    "ax1.plot(x,normpsi,color='r')\n",
    "ax1.axvline(x=-a,c='#5f5f5f',ls='-',lw=2.5)\n",
    "ax1.axvline(x=a,c='#5f5f5f',ls='-',lw=2.5)\n",
    "ax1.set_xlabel(\"Displacement (x/nm)\")\n",
    "ax1.set_ylabel(\"$\\psi$\")\n",
    "ax1.grid(which='both', linestyle='--', linewidth=0.3)\n",
    "ax1.minorticks_on()\n",
    "ax1.grid(which='minor', linestyle=':', linewidth=0.3)\n",
    "ax1.set_title(\"Normalised numerical wavefunction for n =2\")\n",
    "\n",
    "\n",
    "#Create wavefunction for case where n = even  \n",
    "def normpsi_1(x):\n",
    "    psi_1 = (1/ np.sqrt(a)) * np.sin((2*np.pi*x)/(d))\n",
    "    return psi_1\n",
    "\n",
    "#Plot wavefunction n = 1\n",
    "ax2.plot(x,normpsi_1(x))\n",
    "ax2.axvline(x=-a,c='#5f5f5f',ls='-',lw=2.5)\n",
    "ax2.axvline(x=a,c='#5f5f5f',ls='-',lw=2.5)\n",
    "ax2.set_xlabel(\"Displacement (x/nm)\")\n",
    "ax2.set_ylabel(\"$\\psi$\")\n",
    "ax2.grid(which='both', linestyle='--', linewidth=0.3)\n",
    "ax2.minorticks_on()\n",
    "ax2.grid(which='minor', linestyle=':', linewidth=0.3)\n",
    "ax2.set_title(\"Analytical normalised wavefunction for n = 2\");"
   ]
  },
  {
   "cell_type": "markdown",
   "metadata": {
    "collapsed": false
   },
   "source": [
   ]
  },
  {
   "cell_type": "markdown",
   "metadata": {
    "collapsed": false
   },
   "source": [
    "<u>**Comments**</u>\n",
    "\n",
    "I thought it would be useful to compare the case of n being odd, as in this case the known wavefunction \\(right subplot\\) shows a sinusodial shape as opposed to the cosine shape in n = even. The left plot clearly shows a perfect match between the known wavefunction and the numerically calculated normalised wavefunction. This result further verifies the accuracy of our model of the infinite potential well Schrödinger equation when solving it numerically.  \n",
    "\n"
   ]
  },
  {
   "cell_type": "markdown",
   "metadata": {
    "collapsed": false
   },
   "source": [
    "<span style='font-size:large'>Testing for large n: </span>\n"
   ]
  },
  {
   "cell_type": "code",
   "execution_count": 0,
   "metadata": {
    "collapsed": false
   },
   "outputs": [
   ],
   "source": [
    "#n = 18\n",
    "\n",
    "#Find and print numerical value\n",
    "eigenenergy(0,joules(5),e/100000)\n",
    "\n",
    "#Find and print analytic value\n",
    "print(f\"Analytic solution at n = 18 is {ev(analytic(18))} eV\")\n",
    "\n",
    "#Print error between results\n",
    "errorbetween(ev(analytic(18)),4.873350901273436)"
   ]
  },
  {
   "cell_type": "code",
   "execution_count": 0,
   "metadata": {
    "collapsed": false
   },
   "outputs": [
   ],
   "source": [
    "#n = 27\n",
    "\n",
    "#Find and print numerical value\n",
    "eigenenergy(0,joules(11),e/100000)\n",
    "\n",
    "#Find and print analytic value\n",
    "print(f\"Analytic solution at n = 27 is {ev(analytic(27))} eV\")\n",
    "\n",
    "#Print error between results\n",
    "errorbetween(ev(analytic(27)),10.965040118767979)\n",
    "\n"
   ]
  },
  {
   "cell_type": "markdown",
   "metadata": {
    "collapsed": false
   },
   "source": [
    "<u>**Comments:**</u>\n",
    "\n",
    "Although here I have used the analytical solution to provide an energy guess that allows the secant method to converge on the correct order value, it can clearly be seen that even at higher orders of energy, the method is very accurate and provdies excellent estimations of the theoretically derived analytical solutions.  \n",
    "\n"
   ]
  },
  {
   "cell_type": "markdown",
   "metadata": {
    "collapsed": false
   },
   "source": [
    "<span style='font-size:x-large'>Task  3.4: Extension to 3D</span>  \n",
    "\n",
    "A qauntum dot must be considered in 3 dimension, in this case, the analytical solutions take the form:\n",
    "\n",
    "$$\n",
    "E_{n_x,n_y,n_z} = (n_x^2+n_y^2+n_z^2)\\frac{\\pi^2 \\hbar^2}{2m d^2} \\ \\ \\ [1]\n",
    "$$\n",
    "\n",
    "Where the three iterations of n are discrete quantum number representing each dimension of three dimensional euclidean space. The introduction of three dimensions introduces energy degeneracy, since the energy is calculated using the squares of the sums, as listed below, different combinations lead to the same resulting sum of squares. \n",
    "\n",
    "List of first ten degenerate prefactors to energy calculation = \\($n_x^2+n_y^2+n_z^2$\\)\n",
    "\n",
    "$$  \n",
    "E_{111} = 3 \\\\\n",
    "E_{112} = E_{121} = E_{211} = 6 \\\\\n",
    "E_{122} = E_{212} = E_{221} = 9 \\\\\n",
    "E_{113} = E_{113} = E_{113} = 11 \\\\\n",
    "E_{222} = E_{222} = E_{222} = 12 \\\\\n",
    "E_{123} = E_{312} = E_{321} = 14 \\\\\n",
    "E_{322} = E_{232} = E_{223} = 17 \\\\\n",
    "E_{411} = E_{141} = E_{114} = 18 \\\\\n",
    "E_{331} = E_{331} = E_{331} = 19  \\\\\n",
    "E_{412} = E_{124} = E_{214} = 21 $$\n",
    "\n"
   ]
  },
  {
   "cell_type": "code",
   "execution_count": 0,
   "metadata": {
    "collapsed": false
   },
   "outputs": [
   ],
   "source": [
    "## Finding 3D energies\n",
    "\n",
    "#Creating function that calculates energies for 3D extension\n",
    "def analytic3D(nsum):\n",
    "    \"\"\"\n",
    "    Calculates energy for given sum of squares of x/y/z orders in 3D Schrödinger equation.\n",
    "    \n",
    "    Inputs:\n",
    "    - nsum = sum of squares n_x/n_y/n_z\n",
    "    Returns:\n",
    "    - E = calculated energy value\n",
    "    \"\"\"\n",
    "    #Calculate energy using formula above\n",
    "    E =  nsum*((np.pi**2)*(hbar**2) )/( 2*m*(d**2) )\n",
    "    \n",
    "    #Return calulated energy\n",
    "    return E\n",
    "\n",
    "#Create array of nsum values\n",
    "sums = [3,6,9,11,12,14,17,18,19,21]\n",
    "\n",
    "#Use for loop to calculate and print energies\n",
    "for i in sums:\n",
    "    print(fr\"First degenerate sum  = {i}, the energy is {ev(analytic3D(i))} eV \")"
   ]
  },
  {
   "cell_type": "markdown",
   "metadata": {
    "collapsed": false
   },
   "source": [
    "<u>**Comments:**</u>\n",
    "\n",
    "As expected, the energies increased for larger nsum values. The explanation behind this trend is that higher energy states correspond to increased kinetic energy states of the particles. Kinetic energy is directly proportional to energy through the simple relation:\n",
    "\n",
    "$$\n",
    "KE =\\frac{p^2}{2m}\n",
    "$$\n",
    "\n",
    "Where $p$ is the momentum, directly related to the velocity through the relation $p=mv$, where v is the velocity and m is the mass. \n",
    "\n",
    "Hence an increase in velocity corresponds to an increase in kinetic energy, and therefore also an increase in the eigenergy of the particle due to the Hamiltoninan \\(energy operator in aforementioned eigenvalue equation\\) including a kinetic energy term of said particle.  \n",
    "\n"
   ]
  },
  {
   "cell_type": "markdown",
   "metadata": {
    "collapsed": false
   },
   "source": [
    "Assuming the dot is in a vacuum, we can consider the transition of the dot between energy non\\-degenerate energy levels:\n",
    "\n",
    "\n",
    "$$\n",
    "E_{112} \\rightarrow \\ E_{111}\n",
    "$$\n",
    "\n",
    "Upon transition from a higher energy to lower energy level, a photon will be emitted. The properties of the emitted light can be tuned, the wavelength of this transition will be calculated to see which part of the electromagnetic spectrum the photon lies in.\n",
    "\n",
    "\\(Speed of light in a vacuum, c = 299 792 458 ms^\\-1   \\[3\\]\\)\n"
   ]
  },
  {
   "cell_type": "code",
   "execution_count": 0,
   "metadata": {
    "collapsed": false
   },
   "outputs": [
   ],
   "source": [
    "## Finding transition energy for (112) to (111)\n",
    "\n",
    "#Defining constants used in transition calculations\n",
    "planckconstant = hbar*2*np.pi\n",
    "speedoflight = 299792458 #ms^-1\n",
    "\n",
    "#Calculating and printing energy of transition\n",
    "Etransition = analytic3D(6) - analytic3D(3)\n",
    "print(f\"Energy of transition from E112 to E111 = {ev(Etransition)} eV\")\n",
    "\n",
    "#Calculating and printing frequency, wavelength and wavenumber of transition\n",
    "Frequency = Etransition/planckconstant\n",
    "print(f\"Frequency of emitted photon transtion = {Frequency} Hz\")\n",
    "wavenumber = (Etransition/(planckconstant*speedoflight)) /100\n",
    "wavelength = (planckconstant*speedoflight)/Etransition\n",
    "print(f\"wavelength of photon emitted = {wavelength} m\")\n",
    "print(f\"wavenumber = {wavenumber} cm^-1\")\n",
    "\n",
    "#E = hf = hc/lambda"
   ]
  },
  {
   "cell_type": "markdown",
   "metadata": {
    "collapsed": false
   },
   "source": [
    "<u>**Comments:**</u>\n",
    "\n",
    "The wavelength of emitted photon is in the order of $10^{-5}$ , this lies in the infrared region of the electromagnetic spectrum. These wavelengths have applications in heating, short range communications and detecting thermal properties.  \n",
    "\n"
   ]
  },
  {
   "cell_type": "markdown",
   "metadata": {
    "collapsed": false
   },
   "source": [
    "## 4: The Infinite \"Unsquare\" Well.\n",
    "\n"
   ]
  },
  {
   "cell_type": "markdown",
   "metadata": {
    "collapsed": false
   },
   "source": [
    "<span style='font-size:x-large'>Task  4.1: Harmonic potential</span>  \n",
    "\n",
    "<span style='font-size:medium'>In this section of the notebook, the objective is to find the eigenenergies for the case of the potenital taking different forms than before. The first is the case of the \"Harmonic potential\", which graphically looks like the following:</span>\n",
    "\n",
    "<img src=\".22156658-C8.ipynb.upload/Harmonic potential.jpg\"   width=\"454.6px\"  height=\"322.6px\"  style=\"object-fit:cover\"/>\n",
    "\n",
    "<span style='font-size:small'>Fig 1. Sketch of harmonic potential inbetween boundaries of well, accesible at: </span>https://imgur.com/a/nsRUwUD<span style='font-size:small'>  \\[Original, created by myself\\]</span>\n",
    "\n",
    "<span style='font-size:medium'>The potential inside the well takes the mathematical </span>  \n",
    "<span style='font-size:medium'>form of:</span>\n",
    "\n",
    "$$ V(x) = V_{0} \\frac{x^2}{a^2} $$\n",
    "\n"
   ]
  },
  {
   "cell_type": "code",
   "execution_count": 0,
   "metadata": {
    "collapsed": false
   },
   "outputs": [
   ],
   "source": [
    "## Create function for potential\n",
    "p_h = 1\n",
    "def V_h(x,a=2.5e-9):\n",
    "    \"\"\"\n",
    "    Calculates and returns 1D harmonic potential inside infinite potential well \n",
    "    \n",
    "    Inputs:\n",
    "    - x = x coordinate inside potential\n",
    "    \n",
    "    Outputs:\n",
    "    - V = potential at given coordinate\n",
    "    \"\"\"\n",
    "    \n",
    "    #Calculate potential inside well\n",
    "    V0 = p_h*e\n",
    "    V = V0 * ( x**2 / a**2 )\n",
    "    #Return potential\n",
    "    return V\n"
   ]
  },
  {
   "cell_type": "markdown",
   "metadata": {
    "collapsed": false
   },
   "source": [
    "\\*Note that p\\_h = 1 seemed to give the best results, depsite the suggestion of a much higher value, the method appears to be much less accurate at that range.  \n",
    "\n"
   ]
  },
  {
   "cell_type": "code",
   "execution_count": 0,
   "metadata": {
    "collapsed": false
   },
   "outputs": [
   ],
   "source": [
    "## Create RungeKutta for harmonic potential\n",
    "\n",
    "#Create equation for RHS of ODEs\n",
    "\n",
    "def schrodinger_h(r,x,E):\n",
    "    \"\"\"\n",
    "    Calculates RHS of system of ODEs for Schrodinger equation.\n",
    "    \n",
    "    Inputs:\n",
    "    - r = array containing value of phi then psi\n",
    "    - x = x datapoint\n",
    "    - E = value of energy\n",
    "    \n",
    "    Returns:\n",
    "    Array of values for the RHS of the two ODEs extracted from the Schrödinger equation. \n",
    "    \"\"\"\n",
    "    #Extract phi/psi values from r input array\n",
    "    psi = r[0]\n",
    "    phi = r[1]\n",
    "    \n",
    "   \n",
    "    #Calculate differential values from ODE equations   \n",
    "    fpsi = phi   \n",
    "    fphi = ( 2*m / (hbar**2) )*( V_h(x) - E) * psi\n",
    "  \n",
    "    #Return array of values\n",
    "    return np.array([fpsi,fphi])\n",
    "\n",
    "# Reusing RungeKutta method from week 7 [2]\n",
    "\n",
    "def RungeKutta2d_h(xpoints,E):\n",
    "    '''\n",
    "    Fourth-order Runge-Kutta rewritten for two simultaneous equations\n",
    "    \n",
    "    Inputs: \n",
    "      - xpoints: array of x values.\n",
    "    Returns:\n",
    "     - [psipoint]: solutions for psi(x)\n",
    "    '''\n",
    "    \n",
    "    #Define intial conditions\n",
    "    r = np.array([0,0.1])\n",
    "    \n",
    "    \n",
    "    psipoints = [] # initialise empty arrays\n",
    "    phipoints = []\n",
    "    for x in xpoints: # loops over all tpoints up to (tend-h)\n",
    "        psipoints.append(r[0])\n",
    "        phipoints.append(r[1])\n",
    "        # The following is the same as the 1d version, with x->r\n",
    "        k1 = h*schrodinger_h(r,x,E) \n",
    "        k2 = h*schrodinger_h(r+0.5*k1, x+0.5*h,E)\n",
    "        k3 = h*schrodinger_h(r+0.5*k2, x+0.5*h,E)\n",
    "        k4 = h*schrodinger_h(r+k3, x+h,E)\n",
    "        r = r + (k1 + 2*k2 + 2*k3 + k4)/6\n",
    "    #Append point at xend to psipoints\n",
    "    psipoints.append(r[0])\n",
    "   \n",
    "    #Return calculated array of psipoints \n",
    "    return np.array(psipoints) "
   ]
  },
  {
   "cell_type": "code",
   "execution_count": 0,
   "metadata": {
    "collapsed": false
   },
   "outputs": [
   ],
   "source": [
    "## Testing for ground state energy\n",
    "\n",
    "\n",
    "#Define intitial conditions\n",
    "E1 = 0\n",
    "E2 = joules(0.02)\n",
    "tolerance = e/100000\n",
    "print(f\"Calculating eigenergy based on initial guesses: E1 = {E1} eV, E2 = {ev(E2)} eV ....\")\n",
    "\n",
    "#Use secant to converge on correct energy that gives us psi = 0 at +d/2\n",
    "while abs(E2-E1) > tolerance:\n",
    "    sol1_h = RungeKutta2d_h(xpoints,E1)[-1]\n",
    "    sol2_h = RungeKutta2d_h(xpoints,E2)[-1]\n",
    "\n",
    "    Eout = E2 - sol2_h*(E2-E1)/(sol2_h-sol1_h)\n",
    "    #Update values for next iteraion\n",
    "    E1 = E2\n",
    "    E2 = Eout\n",
    "       \n",
    "    print(\"...difference between E1,E2 is\",abs(E2-E1), \"\\tCondition met?\", abs(E2-E1) < tolerance)\n",
    "    sol1_h = RungeKutta2d_h(xpoints,E1)[N]\n",
    "    sol2_h = RungeKutta2d_h(xpoints,E2)[N]\n",
    "\n",
    "    \n",
    "#Print final result with eV conversion   \n",
    "print(\"Calculation complete:\")\n",
    "print(\"E = \", ev(Eout), \"eV\")"
   ]
  },
  {
   "cell_type": "markdown",
   "metadata": {
    "collapsed": false
   },
   "source": [
    "Known Analytical solution to harmonic potential:  \n",
    "\n",
    "\n",
    "$$ E = (n+\\frac{1}{2}) \\hbar \\omega $$\n",
    "\n",
    "$$ \\omega  = \\sqrt{\\frac{k}{m}} = \\sqrt{\\frac{2V_{0}}{a^2 m}} $$\n",
    "\n"
   ]
  },
  {
   "cell_type": "code",
   "execution_count": 0,
   "metadata": {
    "collapsed": false
   },
   "outputs": [
   ],
   "source": [
    "#analytical solutions to harmonic potential well\n",
    "p_h = 1\n",
    "def analytic_h(n):\n",
    "    \"\"\"\n",
    "    \"\"\"\n",
    "    omega = np.sqrt((2*p_h*e)/(a**2 * m))\n",
    "    \n",
    "    E = (n+0.5)*hbar*omega\n",
    "    \n",
    "    return E\n",
    "\n",
    "#Test for ground state\n",
    "ev(analytic_h(0))"
   ]
  },
  {
   "cell_type": "code",
   "execution_count": 0,
   "metadata": {
    "collapsed": false
   },
   "outputs": [
   ],
   "source": [
    "## First n harmonic potentials\n",
    "\n",
    "#Guesses for initial ground state energy\n",
    "E1 = joules(0)\n",
    "E2 = joules(0.02)\n",
    "\n",
    "#Initialise values for iteration\n",
    "n = 0\n",
    "nmax = 5\n",
    "tolerance = e/100000\n",
    "\n",
    "#Set paramaters for method\n",
    "Einc = joules(0.03)\n",
    "Eprev = 0\n",
    "factor = 1.00 #0% Increase\n",
    "\n",
    "#Create empty array to store energies\n",
    "eigenstates = []\n",
    "\n",
    "while n != nmax: #use while loop until nmax solutions found \n",
    "    while abs(E2-E1) > tolerance:\n",
    "        sol1 = RungeKutta2d_h(xpoints,E1)[-1]\n",
    "        sol2 = RungeKutta2d_h(xpoints,E2)[-1]\n",
    "        E3 = E2 - sol2*(E2-E1)/(sol2-sol1)\n",
    "        #Update values for next iteraion\n",
    "        E1 = E2\n",
    "        E2 = E3\n",
    "    \n",
    "    #If energy found is not the ground state\n",
    "    if n != 0: \n",
    "        #Check if new found energy is the same \n",
    "        if abs(E2 - Eprev) < (Einc/2)*factor:\n",
    "            n += 0\n",
    "            #Increase factor\n",
    "            factor += 1.5\n",
    "            #Set new guesses with factored increase\n",
    "            E1 = 0\n",
    "            E2 = E2 + Einc*factor\n",
    "        #If found energy is new\n",
    "        else: \n",
    "            n += 1\n",
    "            #Store found energy in eigenstates array \n",
    "            eigenstates.append(E2)\n",
    "            #Increase energy \n",
    "            E2 += Einc\n",
    "            Eprev = E3\n",
    "     #Specific energy for ground state\n",
    "    elif n == 0:\n",
    "        n += 1\n",
    "        eigenstates.append(E2)\n",
    "        E1 = 0\n",
    "        E2 += Einc\n",
    "        Eprev = E3\n",
    "\n",
    "#Initialise counter\n",
    "state = 0\n",
    "\n",
    "#Use while loop to print analytical/numerical values together\n",
    "while state < nmax:\n",
    "    print(f\"n = {state}\")\n",
    "    print(\" \")\n",
    "    print(f\"Analytical Eigenenergy for n= {state} = {ev(analytic_h(state))} eV\")\n",
    "    print(f\"Numerical Eigenenergy for n = {state} state = {ev(eigenstates[state])} eV\")\n",
    "    errorbetween(ev(analytic_h(state)),ev(eigenstates[state]))\n",
    "    print(\"--------------------------\")\n",
    "    #Initiate next iteration\n",
    "    state += 1"
   ]
  },
  {
   "cell_type": "code",
   "execution_count": 0,
   "metadata": {
    "collapsed": false
   },
   "outputs": [
   ],
   "source": [
    "## Calculating and plotting normalised wavefunctions and potential curve with eigenenergies\n",
    "\n",
    "#Use while loop to \n",
    "\n",
    "#Create suplot axes\n",
    "fig, axlist = plt.subplots(5,1,figsize=(8,20)) \n",
    "\n",
    "#Adjust subplot layout for optimal display \n",
    "fig.tight_layout()\n",
    "fig.suptitle(\"First 5 normalised wavefunctions for harmonic potential well\")\n",
    "fig.subplots_adjust(top=0.94)\n",
    "fig.subplots_adjust(hspace=0.3)\n",
    "\n",
    "#Use for loop to calculate and plot normalised wavefunctions on indexed subplot\n",
    "for E,ax in zip(eigenstates,axlist):\n",
    "    #Normalise wavefunction\n",
    "    psisquared = ( RungeKutta2d_h(xpoints,E) )**2 \n",
    "    psiinteg= h*(0.5*psisquared[0] + 0.5*psisquared[-1] + np.sum(psisquared[1:-2]))\n",
    "    normpsi = (RungeKutta2d_h(xpoints,E))/(np.sqrt(psiinteg))\n",
    "    #Plot well labelled graph containing wavefunction\n",
    "    ax.plot(x,normpsi,label=(f\" n = {eigenstates.index(E) }\"))\n",
    "    ax.axvline(x=-a,c='#5f5f5f',ls='-',lw=2.5)\n",
    "    ax.axvline(x=a,c='#5f5f5f',ls='-',lw=2.5)\n",
    "    ax.grid(which='both', linestyle='--', linewidth=0.3)\n",
    "    ax.minorticks_on()\n",
    "    ax.grid(which='minor', linestyle=':', linewidth=0.3)\n",
    "    ax.set_title(f\"n = {eigenstates.index(E)}\")\n",
    "    ax.set_ylabel(\"$\\psi$\")\n",
    "    ax.set_xlabel(\"Displacement (x/nm)\")\n",
    "    ax.legend(loc = 3, fontsize = 10)    \n",
    "\n",
    "#Create figure for plot of potential curve/eigenvalues\n",
    "plt.figure()\n",
    "#Plot potenital curve\n",
    "plt.plot(xpoints,ev(V_h(xpoints)),label=\"harmnonic potential\")\n",
    "\n",
    "\n",
    "#Use for loop to plot indivudal energy levels with horizontal line\n",
    "for i in eigenstates:\n",
    "    plt.axhline(ev(i), color='r',ls='--')\n",
    "    plt.text(-2.4e-9,ev(i+0.05e-19),f'n={eigenstates.index(i)}')\n",
    "\n",
    "#Add titles and key features to graph\n",
    "plt.title(\"Potential curve and eigenenergies for a harmonic potential\")\n",
    "plt.xlabel(\"Displacement (x/nm)\")\n",
    "plt.ylabel(\"Potential (eV)\")\n",
    "plt.legend(loc=4)\n",
    "plt.grid(which='both', linestyle='--', linewidth=0.3)\n",
    "plt.minorticks_on()\n",
    "plt.grid(which='minor', linestyle=':', linewidth=0.3)\n",
    "plt.axvline(x=-a,c='#5f5f5f',ls='-',lw=2.5)\n",
    "plt.axvline(x=a,c='#5f5f5f',ls='-',lw=2.5);"
   ]
  },
  {
   "cell_type": "markdown",
   "metadata": {
    "collapsed": false
   },
   "source": [
    "<u>**Comments:**</u>\n",
    "\n",
    "When the normalised eigenfunctions are plotted, they are expected to take the form similar to the analytical versions\n",
    "\n",
    "![](.22156658-C8.ipynb.upload/paste-0.5446477730802608)\n",
    "\n",
    "Fig 2. Plot of known wavefunctions for harmonic potential, available online at https://imgur.com/a/LetEs3f  \\[5\\]\n",
    "\n",
    "It can clearly be seen that for increasing n, the numerically found wavefunctions follow these expected shapes. There is an increase in nodes as the order increases, as discussed previously this is due to the decrease in wavelength corresponding to the increase in energy. The only noticeable difference is the inverse symmetry of the odd wavefunctions. However this is not of major importance as it still implies that the magnitude of oscillations simulated by the numerical solution are correct, but for an unknown reason there is a lack of symmetry between results. This could possibly be due to the antisymmetry of fermions, which an electron is, but as stated this is not of paramount importance.\n",
    "\n",
    "The potential curve shows plot shows even spacing between the eigenenergies, matching the trend in analytic solutions. It would be interesting to see what happens at higher orders, so this will briefly be attempted to see what behaviour is observed.  \n",
    "\n"
   ]
  },
  {
   "cell_type": "code",
   "execution_count": 0,
   "metadata": {
    "collapsed": false
   },
   "outputs": [
   ],
   "source": [
    "## Testing harmonic potential calculations at n = 20\n",
    "\n",
    "print(f\"Analytic solution for n = 20 is {ev(analytic_h(20))} eV\")\n",
    "\n",
    "#Create figure for plot of potential curve/eigenvalues\n",
    "plt.figure()\n",
    "\n",
    "#Plot potenital curve\n",
    "plt.plot(xpoints,ev(V_h(xpoints)),label=\"Harmnonic potential\")\n",
    "\n",
    "#Plot n = 20 energy\n",
    "plt.axhline(3.2011447774960415, color='r',ls='--')\n",
    "\n",
    "\n",
    "#Add titles and key features to graph\n",
    "plt.title(\"Potential curve and eigenenergies for a Harmonic Potential\")\n",
    "plt.xlabel(\"Displacement (x/nm)\")\n",
    "plt.ylabel(\"Potential (eV)\")\n",
    "plt.legend(loc=4)\n",
    "plt.grid(which='both', linestyle='--', linewidth=0.3)\n",
    "plt.minorticks_on()\n",
    "plt.grid(which='minor', linestyle=':', linewidth=0.3)\n",
    "plt.axvline(x=-a,c='#5f5f5f',ls='-',lw=2.5)\n",
    "plt.axvline(x=a,c='#5f5f5f',ls='-',lw=2.5);"
   ]
  },
  {
   "cell_type": "markdown",
   "metadata": {
    "collapsed": false
   },
   "source": [
    "<u>**Comments:**</u>\n",
    "\n",
    "Interestingly, the energy is now much greater than the potential curve, implying that the particle is unbound. This represents unphysical behaviour because the potential outside of the well is infinite. This is a paradoxical scenario, the particle is both free from the well and also bound to be inside it.  \n",
    "\n"
   ]
  },
  {
   "cell_type": "markdown",
   "metadata": {
    "collapsed": false
   },
   "source": [
    "<span style='font-size:x-large'>Task  4.2: Finite Square Well</span>  \n",
    "\n"
   ]
  },
  {
   "cell_type": "markdown",
   "metadata": {
    "collapsed": false
   },
   "source": [
    "In the final task for this notebook, the case of the embedded finite square well will be analysed. The boundary conditions of the infinite square well still apply, however now inside the region of non\\-infinite potential there is an additional potential well.\n",
    "\n",
    "The finite square well can be represented mathematically as: \n",
    "\n",
    "$$\n",
    "V_x = \\begin{cases} 0 & \\text{if } -a/2 \\leq x \\leq +a/2, \\\\ \n",
    "    V_0  & \\text{if } |x| > a/2, \\end{cases}\n",
    "$$\n",
    "\n",
    "Or graphically as shown in the code cell below:\n",
    "\n"
   ]
  },
  {
   "cell_type": "code",
   "execution_count": 0,
   "metadata": {
    "collapsed": false
   },
   "outputs": [
   ],
   "source": [
    "## Create potential function\n",
    "\n",
    "p_h = 1\n",
    "\n",
    "#Creating function representing finite square potential well\n",
    "def V_f(x):\n",
    "    \"\"\"\n",
    "    Calculates potential in the 1-dimensional finite square potential well for a given x-coordinate\n",
    "    \n",
    "    Inputs:\n",
    "    - x = x-coordinate\n",
    "    \n",
    "    Returns\n",
    "    Value of potential at given x-coordinate\n",
    "    \"\"\"\n",
    "    \n",
    "    V = 0\n",
    "    #If statement representing functions\n",
    "    if abs(x) <= a/2:\n",
    "        V = 0\n",
    "    elif abs(x) > a/2:\n",
    "        V0 = p_h *e\n",
    "        V = V0 \n",
    "    \n",
    "    #Return potential for given x\n",
    "    return V\n",
    "\n",
    "#Create empty array to fill with potential values over xpoints\n",
    "potential = []\n",
    "\n",
    "#Fill potential array\n",
    "for i in xpoints:\n",
    "    potential.append(ev(V_f(i)))\n",
    "    \n",
    "#Plot labelled graph showing form of the potential    \n",
    "plt.plot(xpoints,potential) \n",
    "plt.title(\"Potential curve for a finite square well\")\n",
    "plt.xlabel(\"Displacement (x/nm)\")\n",
    "plt.ylabel(\"Potential (eV)\")\n",
    "plt.grid(which='both', linestyle='--', linewidth=0.3)\n",
    "plt.minorticks_on()\n",
    "plt.grid(which='minor', linestyle=':', linewidth=0.3)\n",
    "plt.axvline(x=-a,c='#5f5f5f',ls='-',lw=2.5)\n",
    "plt.axvline(x=a,c='#5f5f5f',ls='-',lw=2.5);"
   ]
  },
  {
   "cell_type": "code",
   "execution_count": 0,
   "metadata": {
    "collapsed": false
   },
   "outputs": [
   ],
   "source": [
    "## Create RungeKutta for finite square potential\n",
    "\n",
    "#Create equation for RHS of ODEs\n",
    "\n",
    "def schrodinger_f(r,x,E):\n",
    "    \"\"\"\n",
    "    Calculates RHS of system of ODEs for Schrodinger equation.\n",
    "    \n",
    "    Inputs:\n",
    "    - r = array containing value of phi then psi\n",
    "    - x = x datapoint\n",
    "    - E = value of energy\n",
    "    \n",
    "    Returns:\n",
    "    Array of values for the RHS of equations\n",
    "    \"\"\"\n",
    "    #Extract phi/psi values from r input array\n",
    "    psi = r[0]\n",
    "    phi = r[1]\n",
    "    \n",
    "   \n",
    "    #Calculate differential values from ODE equations   \n",
    "    fpsi = phi   \n",
    "    fphi = ( 2*m / (hbar**2) )*( V_f(x) - E) * psi\n",
    "  \n",
    "    return np.array([fpsi,fphi])\n",
    "\n",
    "# Reusing RungeKutta method from week 7 [2]\n",
    "\n",
    "def RungeKutta2d_f(xpoints,E):\n",
    "    '''\n",
    "    Fourth-order Runge-Kutta rewritten for two simultaneous equations\n",
    "  \n",
    "    Inputs: \n",
    "     - xpoints: array of x values.\n",
    "    Outputs: \n",
    "     - [psipoint]: solutions for psi(x)\n",
    "    '''\n",
    "    \n",
    "    #Define intial conditions\n",
    "    r = np.array([0,0.1])\n",
    "    \n",
    "    \n",
    "    psipoints = [] # initialise empty arrays\n",
    "    phipoints = []\n",
    "    for x in xpoints: # loops over all tpoints up to (tend-h)\n",
    "        psipoints.append(r[0])\n",
    "        phipoints.append(r[1])\n",
    "        # The following is the same as the 1d version, with x->r\n",
    "        k1 = h*schrodinger_f(r,x,E) \n",
    "        k2 = h*schrodinger_f(r+0.5*k1, x+0.5*h,E)\n",
    "        k3 = h*schrodinger_f(r+0.5*k2, x+0.5*h,E)\n",
    "        k4 = h*schrodinger_f(r+k3, x+h,E)\n",
    "        r = r + (k1 + 2*k2 + 2*k3 + k4)/6\n",
    "    #Store psipoint for the point at x = xend\n",
    "    psipoints.append(r[0])\n",
    "    \n",
    "    #Return final array of psipoints\n",
    "    return np.array(psipoints) "
   ]
  },
  {
   "cell_type": "code",
   "execution_count": 0,
   "metadata": {
    "collapsed": false
   },
   "outputs": [
   ],
   "source": [
    "## Test for ground state\n",
    "\n",
    "\n",
    "#Define intitial conditions\n",
    "E1 = 0\n",
    "E2 = joules(0.02)\n",
    "tolerance = e/100000\n",
    "print(f\"Calculating eigenergy based on initial guesses: E1 = {E1} eV, E2 = {ev(E2)} eV ....\")\n",
    "\n",
    "#Use secant to converge on correct energy that gives us psi = 0 at +d/2\n",
    "while abs(E2-E1) > tolerance:\n",
    "    sol1_f = RungeKutta2d_f(xpoints,E1)[-1]\n",
    "    sol2_f = RungeKutta2d_f(xpoints,E2)[-1]\n",
    "\n",
    "    Eout = E2 - sol2_f*(E2-E1)/(sol2_f-sol1_f)\n",
    "    #Update values for next iteraion\n",
    "    E1 = E2\n",
    "    E2 = Eout\n",
    "       \n",
    "    print(\"...difference between E1,E2 is\",abs(E2-E1), \"\\tCondition met?\", abs(E2-E1) < tolerance)\n",
    "    sol1_f = RungeKutta2d_f(xpoints,E1)[-1]\n",
    "    sol2_f = RungeKutta2d_f(xpoints,E2)[-1]\n",
    "\n",
    "    \n",
    "#Print final result with eV conversion   \n",
    "print(\"Calculation complete:\")\n",
    "print(\"E = \", ev(Eout), \"eV\")"
   ]
  },
  {
   "cell_type": "code",
   "execution_count": 0,
   "metadata": {
    "collapsed": false
   },
   "outputs": [
   ],
   "source": [
    "## Finding first n solutions\n",
    "\n",
    "#Guesses for initial ground state energy\n",
    "E1 = joules(0)\n",
    "E2 = joules(0.02)\n",
    "\n",
    "#Initialise values for iteration\n",
    "n = 0\n",
    "nmax = 5\n",
    "tolerance = e/100000\n",
    "\n",
    "#Set increase value and multiplying factor\n",
    "Einc = joules(0.02)\n",
    "Eprev = 0\n",
    "factor = 1.00 #0% increase first\n",
    "\n",
    "#Create empty array to store found energies in\n",
    "eigenstates = []\n",
    "\n",
    "while n != nmax: #use while loop until nmax solutions found \n",
    "    while abs(E2-E1) > tolerance:\n",
    "        sol1 = RungeKutta2d_f(xpoints,E1)[-1]\n",
    "        sol2 = RungeKutta2d_f(xpoints,E2)[-1]\n",
    "        E3 = E2 - sol2*(E2-E1)/(sol2-sol1)\n",
    "        #Update values for next iteraion\n",
    "        E1 = E2\n",
    "        E2 = E3\n",
    "    \n",
    "    #If energy found is not the ground state\n",
    "    if n != 0: \n",
    "        #Check if new found energy is the same \n",
    "        if abs(E2 - Eprev) < (Einc/2)*factor:\n",
    "            n += 0\n",
    "            #Increase factor\n",
    "            factor += 3 \n",
    "            #Set new guesses with factored increase\n",
    "            E1 = 0\n",
    "            E2 = E2 + Einc*factor\n",
    "        #If found energy is new\n",
    "        else: \n",
    "            n += 1\n",
    "            #Store found energy in eigenstates array \n",
    "            eigenstates.append(E2)\n",
    "            #Increase energy \n",
    "            E2 += Einc\n",
    "            Eprev = E3\n",
    "     #Specific energy for ground state\n",
    "    elif n == 0:\n",
    "        n += 1\n",
    "        eigenstates.append(E2)\n",
    "        E1 = 0\n",
    "        E2 += Einc\n",
    "        Eprev = E3\n",
    "            \n",
    "state = 0\n",
    "\n",
    "while state < nmax:\n",
    "    print(f\"n = {state+1}\")\n",
    "    print(\" \")\n",
    "    \n",
    "    print(f\"Calculated Eigenenergy for n = {state+1} state = {ev(eigenstates[state])} eV\")\n",
    "    \n",
    "    print(\"--------------------------\")\n",
    "    state += 1"
   ]
  },
  {
   "cell_type": "code",
   "execution_count": 0,
   "metadata": {
    "collapsed": false
   },
   "outputs": [
   ],
   "source": [
    "## Calculating and plotting normalised wavefunctions and potential curve with eigenenergies\n",
    "\n",
    "#Create empty array to store analytical solutions to energies    \n",
    "analytics_f = []\n",
    "nmax = 4\n",
    "n = 0\n",
    "\n",
    "#Create suplot axes\n",
    "fig, axlist = plt.subplots(5,1,figsize=(8,20)) \n",
    "\n",
    "#Adjust subplot layout for optimal display \n",
    "fig.tight_layout()\n",
    "fig.suptitle(\"First 5 normalised wavefunctions for embedded finite sqaure potential well\")\n",
    "fig.subplots_adjust(top=0.94)\n",
    "fig.subplots_adjust(hspace=0.3)\n",
    "\n",
    "#Use for loop to calculate and plot normalised wavefunctions on indexed subplot\n",
    "for E,ax in zip(eigenstates,axlist):\n",
    "    #Normalise wavefunction\n",
    "    psisquared = ( RungeKutta2d_f(xpoints,E) )**2 \n",
    "    psiinteg= h*(0.5*psisquared[0] + 0.5*psisquared[-1] + np.sum(psisquared[1:-2]))\n",
    "    normpsi = (RungeKutta2d_f(xpoints,E))/(np.sqrt(psiinteg))\n",
    "    #Plot well labelled graph containing wavefunction\n",
    "    ax.plot(x,normpsi,label=(f\" n = {eigenstates.index(E)+1}\"))\n",
    "    ax.axvline(x=-a,c='#5f5f5f',ls='-',lw=2.5)\n",
    "    ax.axvline(x=a,c='#5f5f5f',ls='-',lw=2.5)\n",
    "    ax.grid(which='both', linestyle='--', linewidth=0.3)\n",
    "    ax.minorticks_on()\n",
    "    ax.grid(which='minor', linestyle=':', linewidth=0.3)\n",
    "    ax.set_title(f\"n = {eigenstates.index(E)+1}\")\n",
    "    ax.set_ylabel(\"$\\psi$\")\n",
    "    ax.set_xlabel(\"Displacement (x/nm)\")\n",
    "    ax.legend(loc = 3, fontsize = 10)    \n",
    "\n",
    "#Create figure for plot of potential curve/eigenvalues\n",
    "plt.figure()\n",
    "#Plot potenital curve\n",
    "plt.plot(xpoints,potential,label=\"Finite square well potential\")\n",
    "\n",
    "\n",
    "#Use for loop to plot indivudal energy levels with horizontal line\n",
    "for i in eigenstates:\n",
    "    plt.axhline(ev(i), color='r',ls='--')\n",
    "    plt.text(-2.4e-9,ev(i+0.05e-19),f'n={eigenstates.index(i)+1}')\n",
    "\n",
    "#Add titles and key features to graph\n",
    "plt.title(\"Potential curve and eigenenergies for embedded finite square potential well\")\n",
    "plt.xlabel(\"Displacement (x/nm)\")\n",
    "plt.ylabel(\"Potential (eV)\")\n",
    "plt.legend()\n",
    "plt.grid(which='both', linestyle='--', linewidth=0.3)\n",
    "plt.minorticks_on()\n",
    "plt.grid(which='minor', linestyle=':', linewidth=0.3)\n",
    "plt.axvline(x=-a,c='#5f5f5f',ls='-',lw=2.5)\n",
    "plt.axvline(x=a,c='#5f5f5f',ls='-',lw=2.5);"
   ]
  },
  {
   "cell_type": "markdown",
   "metadata": {
    "collapsed": false
   },
   "source": [
    "<u>**Comments:**</u>\n",
    "\n",
    "Analytical solutions for the finite square well are somewhat complicated, so to compare the found wavefunctions will some known theoretical results, we can consider the general forms of the solutions for a potential of 0. When V= 0, the particle wavefunction is simple that of the free particle:\n",
    "\n",
    "$$\n",
    "\\psi=Acos(kx)+Bsin(kx)\n",
    "$$\n",
    "\n",
    "Where $k = \\sqrt{\\frac{2mE}{\\hbar^2}}$ and the eigenfunctions where the potential is not 0, but still inside the well take the form: $Ce^{kx}/Ce^{-kx}$ such that they decay, explode as per the boundaries conditions of the infinite square well. \n",
    "\n",
    "These solutions take the graphical form:\n",
    "\n",
    "<img src=\".22156658-C8.ipynb.upload/paste-0.29756186977236165\"   width=\"478.8px\"  height=\"272.8px\"  style=\"object-fit:cover\"/>\n",
    "\n",
    "Fig 3. Plots of first 4 eigenfunction for finite square well solutions, available online at: https://imgur.com/a/WfAGtKk  \\[6\\]\n",
    "\n",
    "Comparing these plots to the ones produced by the numerical method, there is an outstanding likeness in the shape and magnitude, suggesting that the method has produced results close to the unknown analytical solutions. However for n = 5, there is an observed linear decay towards the boundaries of the well, which does not match the expect sharp exponential decay. In conjuncture, the eigenergy appears to lie almost perfeclty on the maximum of the potential in the last plot, again suggesting a sharp exponential decline as opposed to a linear one. This abnormal result cannot be compared against the the general solution as the plots only include up to the 4th order.\n",
    "\n",
    "The plot of the potential shows that for increasing orders, there is an increase in spacing between successive orders. This occurs because at higher energy levels, the particle spends more time in regions where the potential energy is closer to zero, resembling a free particle. Consequently, the difference in energy between adjacent levels becomes larger. This can be attributed to both the quantized nature of energy levels in quantum mechanics and the classical behavior of particles with increasing energy, allowing them to explore larger regions of space within the potential well.\n"
   ]
  },
  {
   "cell_type": "markdown",
   "metadata": {
    "collapsed": false
   },
   "source": [
    "## <u>Final Conclusion:</u>\n",
    "\n",
    "Throughout this notebook, the secant method of finding the eigenenergies of the Schrödinger for different potential cases has been very successful.\n",
    "\n",
    "The first section showed that method can accurately calculate the energies. By using the known boundary conditions, the ground state was succesfully found and compared with the known analytical solution. Next, the normalised wavefunction for the ground state was constructed, using the trapezoidal rule to calculate the factor of normalisation for the wavefunction. This step was required as the initial guesses used in finding the energies meant that the wavefunction did not fit the aforementioned normalisation condition. The wavefunction was found to match the theoretical version excellently.\n",
    "\n",
    "The next task was to develop a method of finding the higher order eigenenergies, and importantly create a way of finding them without using the analytical solution so that the method could be used later on when we didnt have access to these solutions. The method was to first find the ground state energy and then increase the range of the guesses until the next value was converged on. It proved very succesful and with a few minor tweaks such as chaning the factor of increase provided resutls very close to the analytical solutions.\n",
    "\n",
    "The wavefunctions of these higher order states of the infinite square well were constructed and showed the expected forms.\n",
    "\n",
    "The task was extended to 3D, the analytical solutions were found for the first 10 degenerate cases. Then the transition between these 3D levels was considered and the emitted photon fell in the infrared region. The uses of such emitted light were discussed, another may be infrared imaging.\n",
    "\n",
    "The penultimate task was to find the eigenenergies in the Harmonic potential case. The same method from before was re\\-implemented and proved succesful when compared against analytical results. The wavefunctions were very accurate when compared to literature. \n",
    "\n",
    "Finally, the finite square well was investigated. In this case there are no simple analytical solutions, so found results were compared to general solution for free particles. The resultsing normalised wavefunctions were deemend to be of high accuracy, although some discprencies in precision, in higher order states were discussed in this section. Namingly that the edge of the 5th order wavefunction appeared to maybe show unphysical behaviour.\n",
    "\n",
    "Overall, this notebook should be easy to follow, with all code commented and structured carefully.\n",
    "\n",
    "I hope that this investigation has been interesting, and I look forward to recieveing commentary and feedback.  \n",
    "\n"
   ]
  },
  {
   "cell_type": "markdown",
   "metadata": {
    "collapsed": false
   },
   "source": [
    "## Bibliography:\n",
    "\n",
    "1. \"PHAS0029 Final Assignment 2023\" \\- M.SZUMILO, 27/02/2023, Accessed 03/03/2024\n",
    "2. \"PHAS0029\\-C7:  2nd Order ODEs \\- Investigating non\\-linear pendulums\" \\- SN:22156658, Accessed 03/3/2024\n",
    "3. \"NIST Special Publication 330: The International System of Units \\(SI\\).\" \\- National Institute of Standards and Technology \\(NIST\\). \\(2019\\).\\[Online\\]. Available: https://physics.nist.gov/cuu/pdf/sp330.pdf. Accessed 03/3/24\n",
    "4. \"PHAS0029FinalAssignmentSupplementaryNotebook\".\\- Dash, L. 2020. \\[Online\\] UCL Moodle resource. Available from https://moodle.ucl.ac.uk/mod/resource/view.php?id=4766052  Accessed 03/3/2024\n",
    "5. \"Solving Schrödinger equation by meshless methods \"\\- Scientific Figure on ResearchGate. Available from: [https://www.researchgate.net/figure/Eigenfunctions\\\\\\-for\\\\\\-the\\\\\\-Harmonic\\\\\\-oscillator\\\\\\-potential\\\\\\-The\\\\\\-confinement\\\\\\-potential\\\\\\-is\\\\\\-shown\\\\\\_fig2\\\\\\_304085071](https://www.researchgate.net/figure/Eigenfunctions%5C-for%5C-the%5C-Harmonic%5C-oscillator%5C-potential%5C-The%5C-confinement%5C-potential%5C-is%5C-shown%5C_fig2%5C_304085071) , Accessed 30/03/2024\n",
    "6. \"Section 4: One\\-dimensional time\\-independent problem\" \\- R Thorne. A Green. 2023 , Accessed 30/03/2024\n",
    "\n"
   ]
  },
  {
   "cell_type": "markdown",
   "metadata": {
    "collapsed": false
   },
   "source": [
   ]
  },
  {
   "cell_type": "markdown",
   "metadata": {
    "collapsed": false
   },
   "source": [
   ]
  }
 ],
 "metadata": {
  "kernelspec": {
   "argv": [
    "/usr/bin/python3",
    "-m",
    "ipykernel",
    "--HistoryManager.enabled=False",
    "--matplotlib=inline",
    "-c",
    "%config InlineBackend.figure_formats = set(['retina'])\nimport matplotlib; matplotlib.rcParams['figure.figsize'] = (12, 7)",
    "-f",
    "{connection_file}"
   ],
   "display_name": "Python 3 (system-wide)",
   "env": {
   },
   "language": "python",
   "metadata": {
    "cocalc": {
     "description": "Python 3 programming language",
     "priority": 100,
     "url": "https://www.python.org/"
    }
   },
   "name": "python3",
   "resource_dir": "/ext/jupyter/kernels/python3"
  },
  "language_info": {
   "codemirror_mode": {
    "name": "ipython",
    "version": 3
   },
   "file_extension": ".py",
   "mimetype": "text/x-python",
   "name": "python",
   "nbconvert_exporter": "python",
   "pygments_lexer": "ipython3",
   "version": "3.10.12"
  }
 },
 "nbformat": 4,
 "nbformat_minor": 4
}